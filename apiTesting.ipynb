{
 "cells": [
  {
   "cell_type": "code",
   "execution_count": null,
   "metadata": {},
   "outputs": [],
   "source": [
    "pip install requests"
   ]
  },
  {
   "cell_type": "code",
   "execution_count": 4,
   "metadata": {},
   "outputs": [
    {
     "name": "stdout",
     "output_type": "stream",
     "text": [
      "GET /products status: 200\n",
      "GET /products response: [{'id': 1, 'title': 'Unknown', 'price': 'Unavailable', 'specifications': 'N/A', 'image_url': 'N/A', 'average_rating': None}, {'id': 2, 'title': \"Fossil Nate Men's Watch with Oversized Chronograph Watch Dial and Stainless Steel or Leather Band\", 'price': '90.', 'specifications': 'N/A', 'image_url': 'https://m.media-amazon.com/images/I/71B-vrIIA3L._AC_UL320_.jpg', 'average_rating': None}, {'id': 3, 'title': \"Fossil Grant Men's Watch with Chronograph or Automatic Display and Genuine Leather or Stainless Steel Band\", 'price': '80.', 'specifications': 'N/A', 'image_url': 'https://m.media-amazon.com/images/I/818lBoWqXtL._AC_UL320_.jpg', 'average_rating': None}, {'id': 4, 'title': \"Fossil Men's Coachman Quartz Stainless Steel and Leather Chronograph Watch, Color: Silver, Brown (Model: CH2891)\", 'price': '101.', 'specifications': 'N/A', 'image_url': 'https://m.media-amazon.com/images/I/71taSx89wUL._AC_UL320_.jpg', 'average_rating': None}, {'id': 5, 'title': \"Fossil Dean Men's Dress Watch with Chronograph Display and Stainless Steel Bracelet Band\", 'price': '90.', 'specifications': 'N/A', 'image_url': 'https://m.media-amazon.com/images/I/71QoSMBhfVL._AC_UL320_.jpg', 'average_rating': None}, {'id': 6, 'title': \"Fossil Coachman Men's Watch with Genuine Leather Bracelet Cuff\", 'price': '95.', 'specifications': 'N/A', 'image_url': 'https://m.media-amazon.com/images/I/71MlmOso55L._AC_UL320_.jpg', 'average_rating': None}, {'id': 7, 'title': \"Fossil Men's Gen 6 44mm Stainless Steel and Silicone Touchscreen Smart Watch, Color: Black (Model: FTW4061V)\", 'price': '148.', 'specifications': 'N/A', 'image_url': 'https://m.media-amazon.com/images/I/71DP0v5VqhL._AC_UL320_.jpg', 'average_rating': None}, {'id': 8, 'title': \"Fossil Everett Men's Watch with Stainless Steel or Leather Band\", 'price': '112.', 'specifications': 'N/A', 'image_url': 'https://m.media-amazon.com/images/I/71E55PTUpaL._AC_UL320_.jpg', 'average_rating': None}, {'id': 9, 'title': \"Fossil Copeland Men's Watch with Slim Case and Genuine Leather Band\", 'price': '93.', 'specifications': 'N/A', 'image_url': 'https://m.media-amazon.com/images/I/71aI-8Qfb7L._AC_UL320_.jpg', 'average_rating': None}, {'id': 10, 'title': \"Fossil Machine Men's Watch with Stainless Steel or Leather Band, Chronograph or Analog Watch Display\", 'price': '126.', 'specifications': 'N/A', 'image_url': 'https://m.media-amazon.com/images/I/81q-emU4uFS._AC_UL320_.jpg', 'average_rating': None}]\n",
      "GET /products/top status: 200\n",
      "GET /products/top response: []\n",
      "GET /products/2/reviews status: 200\n",
      "GET /products/2/reviews response: []\n"
     ]
    }
   ],
   "source": [
    "import requests\n",
    "\n",
    "BASE_URL = \"http://localhost:8000\"\n",
    "\n",
    "def test_get_products():\n",
    "    response = requests.get(f\"{BASE_URL}/products\")\n",
    "    print(\"GET /products status:\", response.status_code)\n",
    "    print(\"GET /products response:\", response.json())\n",
    "\n",
    "def test_get_top_products():\n",
    "    response = requests.get(f\"{BASE_URL}/products/top\")\n",
    "    print(\"GET /products/top status:\", response.status_code)\n",
    "    print(\"GET /products/top response:\", response.json())\n",
    "\n",
    "def test_get_reviews(product_id):\n",
    "    response = requests.get(f\"{BASE_URL}/products/{product_id}/reviews\")\n",
    "    print(f\"GET /products/{product_id}/reviews status:\", response.status_code)\n",
    "    print(f\"GET /products/{product_id}/reviews response:\", response.json())\n",
    "\n",
    "# Run the tests\n",
    "if __name__ == \"__main__\":\n",
    "    test_get_products()\n",
    "    test_get_top_products()  # This tests the top products endpoint\n",
    "    test_get_reviews(2)  # Replace 1 with an actual product ID to test reviews\n"
   ]
  },
  {
   "cell_type": "code",
   "execution_count": null,
   "metadata": {},
   "outputs": [],
   "source": []
  }
 ],
 "metadata": {
  "kernelspec": {
   "display_name": "base",
   "language": "python",
   "name": "python3"
  },
  "language_info": {
   "codemirror_mode": {
    "name": "ipython",
    "version": 3
   },
   "file_extension": ".py",
   "mimetype": "text/x-python",
   "name": "python",
   "nbconvert_exporter": "python",
   "pygments_lexer": "ipython3",
   "version": "3.9.12"
  }
 },
 "nbformat": 4,
 "nbformat_minor": 2
}
