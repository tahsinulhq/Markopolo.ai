{
 "cells": [
  {
   "cell_type": "code",
   "execution_count": 1,
   "metadata": {},
   "outputs": [],
   "source": [
    "import json\n",
    "\n",
    "# Example: Fetch data from PostgreSQL and write to JSONL\n",
    "import psycopg2\n",
    "\n",
    "# Connect to your database\n",
    "conn = psycopg2.connect(\n",
    "    host=\"localhost\",\n",
    "    database=\"watch_db1\",\n",
    "    user=\"postgres\",\n",
    "    password=\"1234\"\n",
    ")\n",
    "cursor = conn.cursor()\n",
    "\n",
    "# Query data\n",
    "cursor.execute(\"SELECT title, price, average_rating, specifications FROM watches\")\n",
    "watches = cursor.fetchall()\n",
    "\n",
    "# Prepare the dataset\n",
    "with open('watch_data.jsonl', 'w') as f:\n",
    "    for watch in watches:\n",
    "        title, price, average_rating, specifications = watch\n",
    "        prompt = f\"What is the price of the {title}?\"\n",
    "        response = f\"The price of the {title} is {price}.\"\n",
    "        json.dump({\"prompt\": prompt, \"response\": response}, f)\n",
    "        f.write(\"\\n\")\n",
    "\n",
    "        prompt = f\"What is the rating of the {title}?\"\n",
    "        response = f\"The {title} has an average rating of {average_rating}.\"\n",
    "        json.dump({\"prompt\": prompt, \"response\": response}, f)\n",
    "        f.write(\"\\n\")\n",
    "\n",
    "        prompt = f\"Can you tell me about the specifications of the {title}?\"\n",
    "        response = f\"{title} specifications: {specifications}.\"\n",
    "        json.dump({\"prompt\": prompt, \"response\": response}, f)\n",
    "        f.write(\"\\n\")\n"
   ]
  },
  {
   "cell_type": "code",
   "execution_count": null,
   "metadata": {},
   "outputs": [],
   "source": []
  }
 ],
 "metadata": {
  "kernelspec": {
   "display_name": "base",
   "language": "python",
   "name": "python3"
  },
  "language_info": {
   "codemirror_mode": {
    "name": "ipython",
    "version": 3
   },
   "file_extension": ".py",
   "mimetype": "text/x-python",
   "name": "python",
   "nbconvert_exporter": "python",
   "pygments_lexer": "ipython3",
   "version": "3.9.12"
  }
 },
 "nbformat": 4,
 "nbformat_minor": 2
}
